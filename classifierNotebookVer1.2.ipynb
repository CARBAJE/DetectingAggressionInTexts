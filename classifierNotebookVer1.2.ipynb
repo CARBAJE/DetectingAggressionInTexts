{
 "cells": [
  {
   "cell_type": "markdown",
   "id": "intro_md",
   "metadata": {},
   "source": [
    "# Modelo de Clasificación Local de Extremo a Extremo v2.1\n",
    "\n",
    "Este notebook implementa un pipeline completo de Machine Learning de forma local con las siguientes características:\n",
    "\n",
    "1.  **Carga de Datos**: Usa el dataset `hate_speech_twitter`.\n",
    "2.  **Preprocesamiento de Texto**: Implementa una limpieza exhaustiva del texto, incluyendo tokenización, eliminación de stopwords y puntuación. Además, se realiza **stemming**.\n",
    "3.  **Generación de Características Dual**: \n",
    "    - **Embeddings**: Convierte el texto limpio en vectores numéricos usando un modelo BERT pre-entrenado.\n",
    "    - **TF-IDF**: Convierte el texto con stemming en una matriz dispersa usando TF-IDF.\n",
    "4.  **Entrenamiento Multi-Modelo**: Entrena y optimiza cuatro modelos (XGBoost, MLP, Regresión Logística con Embeddings, y **Regresión Logística con TF-IDF**) usando **Optuna**.\n",
    "5.  **Creación de Ensemble**: Combina los cuatro modelos en un **ensemble ponderado** para mejorar la precisión, con una lógica que maneja diferentes tipos de entrada.\n",
    "6.  **Evaluación**: Evalúa el rendimiento del modelo ensemble final en un conjunto de prueba.\n",
    "\n",
    "Todo el proceso se ejecuta localmente sin dependencias de la nube, aprovechando la GPU si está disponible."
   ]
  },
  {
   "cell_type": "markdown",
   "id": "setup_md",
   "metadata": {},
   "source": [
    "## 1. Instalación y Configuración"
   ]
  },
  {
   "cell_type": "code",
   "execution_count": 1,
   "id": "install_cell",
   "metadata": {},
   "outputs": [],
   "source": [
    "#!pip install transformers torch datasets scikit-learn xgboost pandas seaborn matplotlib tqdm optuna nltk scipy"
   ]
  },
  {
   "cell_type": "code",
   "execution_count": 2,
   "id": "config_cell",
   "metadata": {},
   "outputs": [
    {
     "name": "stderr",
     "output_type": "stream",
     "text": [
      "c:\\Users\\emicr\\anaconda3\\envs\\ml_env\\Lib\\site-packages\\tqdm\\auto.py:21: TqdmWarning: IProgress not found. Please update jupyter and ipywidgets. See https://ipywidgets.readthedocs.io/en/stable/user_install.html\n",
      "  from .autonotebook import tqdm as notebook_tqdm\n"
     ]
    },
    {
     "name": "stdout",
     "output_type": "stream",
     "text": [
      "Usando dispositivo: cuda\n",
      "\n",
      "ID de trabajo para esta ejecución: local-ensemble-job-1750829529\n",
      "Ruta para datos procesados: datos_locales\\processed\\local-ensemble-job-1750829529\n"
     ]
    }
   ],
   "source": [
    "# --- CONFIGURACIÓN GENERAL ---\n",
    "import pandas as pd\n",
    "import numpy as np\n",
    "import os\n",
    "import pickle\n",
    "import unicodedata\n",
    "import seaborn as sns\n",
    "import matplotlib.pyplot as plt\n",
    "import time\n",
    "import torch\n",
    "import xgboost as xgb\n",
    "from tqdm.auto import tqdm\n",
    "import re\n",
    "\n",
    "from datasets import load_dataset\n",
    "from transformers import AutoTokenizer, AutoModel\n",
    "from sklearn.model_selection import train_test_split\n",
    "from sklearn.preprocessing import LabelEncoder\n",
    "from sklearn.metrics import classification_report, confusion_matrix, accuracy_score, log_loss, f1_score\n",
    "from sklearn.feature_extraction.text import TfidfVectorizer\n",
    "\n",
    "# --- Configuración de NLTK para preprocesamiento de texto ---\n",
    "import nltk\n",
    "from nltk.corpus import stopwords\n",
    "from nltk.stem import PorterStemmer\n",
    "from nltk.tokenize import word_tokenize\n",
    "try:\n",
    "    stopwords.words('english')\n",
    "except LookupError:\n",
    "    print(\"Descargando recursos de NLTK (stopwords, punkt)...\")\n",
    "    nltk.download('stopwords')\n",
    "    nltk.download('punkt')\n",
    "\n",
    "# --- Parámetros de Configuración ---\n",
    "BERT_MODEL_NAME = 'bert-base-uncased'\n",
    "MAX_SAMPLES = 5000 # Limitar el número de muestras para que la ejecución sea más rápida. Poner a None para usar el dataset completo.\n",
    "MAX_TOKEN_LENGTH = 128 # Max longitud para truncar/rellenar tokens.\n",
    "\n",
    "# --- Configuración de Dispositivo (GPU o CPU) ---\n",
    "device = torch.device(\"cuda\" if torch.cuda.is_available() else \"cpu\")\n",
    "print(f\"Usando dispositivo: {device}\")\n",
    "\n",
    "# --- Definición de Rutas Locales ---\n",
    "job_id = f\"local-ensemble-job-{int(time.time())}\"\n",
    "BASE_DIR = \"datos_locales\"\n",
    "PROCESSED_DIR = os.path.join(BASE_DIR, \"processed\", job_id)\n",
    "MODEL_OUTPUT_DIR = os.path.join(BASE_DIR, \"model_output\", job_id)\n",
    "\n",
    "os.makedirs(PROCESSED_DIR, exist_ok=True)\n",
    "os.makedirs(MODEL_OUTPUT_DIR, exist_ok=True)\n",
    "\n",
    "PROCESSED_DATA_PATH = os.path.join(PROCESSED_DIR, \"processed_data_with_embeddings.csv\")\n",
    "\n",
    "print(f\"\\nID de trabajo para esta ejecución: {job_id}\")\n",
    "print(f\"Ruta para datos procesados: {PROCESSED_DIR}\")"
   ]
  },
  {
   "cell_type": "markdown",
   "id": "data_load_md",
   "metadata": {},
   "source": [
    "## 2. Carga, Limpieza y Tokenización de Datos"
   ]
  },
  {
   "cell_type": "code",
   "execution_count": 3,
   "id": "data_load_cell",
   "metadata": {},
   "outputs": [
    {
     "name": "stdout",
     "output_type": "stream",
     "text": [
      "Cargando dataset 'thefrankhsu/hate_speech_twitter' desde Hugging Face...\n",
      "Dataset cargado con 5679 filas.\n",
      "Columnas originales: ['tweet', 'label', 'categories']\n",
      "Tomando una muestra aleatoria de 5000 registros.\n",
      "\n",
      "Distribución de clases (en la muestra):\n",
      "target\n",
      "0    3657\n",
      "1    1343\n",
      "Name: count, dtype: int64\n",
      "\n",
      "Cargando tokenizador de BERT: bert-base-uncased\n"
     ]
    }
   ],
   "source": [
    "print(\"Cargando dataset 'thefrankhsu/hate_speech_twitter' desde Hugging Face...\")\n",
    "# NOTA: La primera vez que se ejecute, se descargarán y guardarán los datos en caché.\n",
    "dataset = load_dataset(\"thefrankhsu/hate_speech_twitter\")\n",
    "\n",
    "# Combinamos los datos en un solo DataFrame de pandas\n",
    "df = pd.DataFrame(dataset['train'])\n",
    "print(f\"Dataset cargado con {len(df)} filas.\")\n",
    "print(\"Columnas originales:\", df.columns.tolist())\n",
    "\n",
    "# Renombrar columnas para mayor claridad\n",
    "df = df.rename(columns={'tweet': 'text_raw', 'label': 'target'})\n",
    "\n",
    "# Tomar una muestra si se especificó para acelerar el proceso\n",
    "if MAX_SAMPLES is not None:\n",
    "    print(f\"Tomando una muestra aleatoria de {MAX_SAMPLES} registros.\")\n",
    "    df = df.sample(n=MAX_SAMPLES, random_state=42).reset_index(drop=True)\n",
    "\n",
    "print(\"\\nDistribución de clases (en la muestra):\")\n",
    "print(df['target'].value_counts())\n",
    "\n",
    "# Cargar tokenizador de BERT\n",
    "print(f\"\\nCargando tokenizador de BERT: {BERT_MODEL_NAME}\")\n",
    "tokenizer_bert = AutoTokenizer.from_pretrained(BERT_MODEL_NAME)\n"
   ]
  },
  {
   "cell_type": "markdown",
   "id": "preprocess_md",
   "metadata": {},
   "source": [
    "### 2.1 Preprocesamiento Avanzado de Texto\n",
    "\n",
    "Definimos una función para limpiar el texto. Esta función se aplicará de dos maneras:\n",
    "1.  **Limpieza para Embeddings**: Tokenización, minúsculas, eliminación de puntuación y stopwords.\n",
    "2.  **Limpieza para TF-IDF**: Ídem al anterior, más **stemming**."
   ]
  },
  {
   "cell_type": "code",
   "execution_count": 4,
   "id": "text_cleaning_cell",
   "metadata": {},
   "outputs": [
    {
     "name": "stdout",
     "output_type": "stream",
     "text": [
      "Aplicando limpieza de texto para Embeddings (sin stemming)...\n"
     ]
    },
    {
     "name": "stderr",
     "output_type": "stream",
     "text": [
      "Limpiando Texto: 100%|██████████| 5000/5000 [00:00<00:00, 18092.31it/s]\n"
     ]
    },
    {
     "name": "stdout",
     "output_type": "stream",
     "text": [
      "Aplicando limpieza y stemming para TF-IDF...\n"
     ]
    },
    {
     "name": "stderr",
     "output_type": "stream",
     "text": [
      "Aplicando Stemming: 100%|██████████| 5000/5000 [00:00<00:00, 10969.80it/s]\n"
     ]
    },
    {
     "name": "stdout",
     "output_type": "stream",
     "text": [
      "\n",
      "Ejemplo de preprocesamiento:\n",
      "Original: gambit ha he aint welcome in washington state or nashville serpas is straight trash\n",
      "Limpio:   gambit ha aint welcome washington state nashville serpas straight trash\n",
      "Stemmed:  gambit ha aint welcom washington state nashvil serpa straight trash\n",
      "\n",
      "Analizando longitud de tokens (BERT) del texto limpio...\n"
     ]
    },
    {
     "name": "stderr",
     "output_type": "stream",
     "text": [
      "100%|██████████| 5000/5000 [00:00<00:00, 21841.33it/s]\n"
     ]
    },
    {
     "data": {
      "image/png": "[encoded data removed]",
      "text/plain": [
       "<Figure size 1000x600 with 1 Axes>"
      ]
     },
     "metadata": {},
     "output_type": "display_data"
    }
   ],
   "source": [
    "stop_words = set(stopwords.words('english'))\n",
    "stemmer = PorterStemmer()\n",
    "\n",
    "def clean_text(text, apply_stemming=False):\n",
    "    \"\"\"Limpia el texto: minúsculas, elimina URLs, puntuación y stopwords. Opcionalmente aplica stemming.\"\"\"\n",
    "    # CORRECCIÓN: Manejar valores nulos (None o NaN) que causan el TypeError\n",
    "    if pd.isna(text):\n",
    "        return \"\"\n",
    "    \n",
    "    # Eliminar URLs\n",
    "    text = re.sub(r'http\\S+|www\\S+|https\\S+', '', text, flags=re.MULTILINE)\n",
    "    # Eliminar menciones de usuario y hashtags\n",
    "    text = re.sub(r'\\@\\w+|#','', text)\n",
    "    # Tokenizar\n",
    "    tokens = word_tokenize(text)\n",
    "    # Convertir a minúsculas y eliminar puntuación y stopwords\n",
    "    words = [word.lower() for word in tokens if word.isalpha() and word.lower() not in stop_words]\n",
    "    \n",
    "    # Aplicar stemming si se solicita\n",
    "    if apply_stemming:\n",
    "        words = [stemmer.stem(word) for word in words]\n",
    "        \n",
    "    return \" \".join(words)\n",
    "\n",
    "print(\"Aplicando limpieza de texto para Embeddings (sin stemming)...\")\n",
    "tqdm.pandas(desc=\"Limpiando Texto\")\n",
    "df['text_cleaned'] = df['text_raw'].progress_apply(lambda x: clean_text(x, apply_stemming=False))\n",
    "\n",
    "print(\"Aplicando limpieza y stemming para TF-IDF...\")\n",
    "tqdm.pandas(desc=\"Aplicando Stemming\")\n",
    "df['text_stemmed'] = df['text_cleaned'].progress_apply(lambda x: \" \".join([stemmer.stem(word) for word in x.split()]))\n",
    "\n",
    "print(\"\\nEjemplo de preprocesamiento:\")\n",
    "print(f\"Original: {df['text_raw'].iloc[0]}\")\n",
    "print(f\"Limpio:   {df['text_cleaned'].iloc[0]}\")\n",
    "print(f\"Stemmed:  {df['text_stemmed'].iloc[0]}\")\n",
    "\n",
    "# Analizar la longitud de los tokens del texto limpio que irá a BERT\n",
    "print(\"\\nAnalizando longitud de tokens (BERT) del texto limpio...\")\n",
    "df['token_length'] = [len(tokenizer_bert.encode(text, max_length=512, truncation=True)) for text in tqdm(df['text_cleaned'])]\n",
    "\n",
    "plt.figure(figsize=(10, 6))\n",
    "sns.histplot(df['token_length'], bins=50, kde=True)\n",
    "plt.title('Distribución de la Longitud de Tokens (Texto Limpio)')\n",
    "plt.axvline(x=MAX_TOKEN_LENGTH, color='r', linestyle='--', label=f'Max Length = {MAX_TOKEN_LENGTH}')\n",
    "plt.legend()\n",
    "plt.show()"
   ]
  },
  {
   "cell_type": "markdown",
   "id": "embedding_md",
   "metadata": {},
   "source": [
    "## 3. Generación de Embeddings con BERT\n",
    "Este es un paso computacionalmente intensivo. Usamos el `text_cleaned` como entrada."
   ]
  },
  {
   "cell_type": "code",
   "execution_count": 5,
   "id": "embedding_cell",
   "metadata": {},
   "outputs": [
    {
     "name": "stdout",
     "output_type": "stream",
     "text": [
      "Cargando modelo pre-entrenado: bert-base-uncased\n",
      "\n",
      "Generando embeddings... Esto puede tardar varios minutos.\n"
     ]
    },
    {
     "name": "stderr",
     "output_type": "stream",
     "text": [
      "100%|██████████| 157/157 [00:04<00:00, 34.23it/s]\n"
     ]
    },
    {
     "name": "stdout",
     "output_type": "stream",
     "text": [
      "\n",
      "✓ Datos procesados (con embeddings) guardados en: datos_locales\\processed\\local-ensemble-job-1750829529\\processed_data_with_embeddings.csv\n",
      "Dimensiones del DataFrame final: (5000, 774)\n",
      "                                            text_raw  target categories  \\\n",
      "0  gambit ha he aint welcome in washington state ...       0       None   \n",
      "1    once it gets cold yall gonna be trash again lol       0       None   \n",
      "2  np shy glizzy  awwsome remix feat  chainz amp ...       0       None   \n",
      "3  just purchased my first trenta iced coffeethis...       0       None   \n",
      "4  friday pm  vivek balk bengali harlem amp the l...       0       None   \n",
      "\n",
      "                                        text_cleaned  \\\n",
      "0  gambit ha aint welcome washington state nashvi...   \n",
      "1                    gets cold yall gon na trash lol   \n",
      "2  np shy glizzy awwsome remix feat chainz amp aa...   \n",
      "3  purchased first trenta iced coffeethis slipper...   \n",
      "4  friday pm vivek balk bengali harlem amp lost h...   \n",
      "\n",
      "                                        text_stemmed  token_length     dim_0  \\\n",
      "0  gambit ha aint welcom washington state nashvil...            15 -0.584642   \n",
      "1                     get cold yall gon na trash lol            12 -0.126809   \n",
      "2  np shi glizzi awwsom remix feat chainz amp aap...            19 -0.290648   \n",
      "3  purchas first trenta ice coffeethi slipperi slope            12 -0.526129   \n",
      "4  friday pm vivek balk bengali harlem amp lost h...            17 -0.513302   \n",
      "\n",
      "      dim_1     dim_2     dim_3  ...   dim_758   dim_759   dim_760   dim_761  \\\n",
      "0 -0.108609 -0.204482  0.218457  ...  0.159661 -0.536449  0.141260  0.024471   \n",
      "1  0.346725  0.188085 -0.306265  ...  0.022370 -0.380408 -0.182155  0.107412   \n",
      "2 -0.253267  0.574732  0.411875  ... -0.029090  0.119485  0.197901  0.290406   \n",
      "3 -0.185485 -0.044774 -0.080740  ...  0.099152 -0.542708 -0.121152  0.133577   \n",
      "4 -0.162941 -0.166613  0.032169  ... -0.056118 -0.163383  0.026352  0.072676   \n",
      "\n",
      "    dim_762   dim_763   dim_764   dim_765   dim_766   dim_767  \n",
      "0  0.358179  0.122322 -0.063655 -0.145875  0.036742 -0.019956  \n",
      "1  0.408871  0.273549 -0.089858 -0.488986  0.250713  0.195163  \n",
      "2  0.382549 -0.012048  0.062436 -0.176744  0.061677  0.470794  \n",
      "3  0.483411 -0.085558 -0.310485 -0.483609  0.052412  0.125140  \n",
      "4  0.584027  0.040190 -0.034698 -0.348170  0.523257  0.059271  \n",
      "\n",
      "[5 rows x 774 columns]\n"
     ]
    }
   ],
   "source": [
    "print(f\"Cargando modelo pre-entrenado: {BERT_MODEL_NAME}\")\n",
    "model = AutoModel.from_pretrained(BERT_MODEL_NAME).to(device)\n",
    "model.eval() # Poner el modelo en modo de evaluación\n",
    "\n",
    "def get_bert_embeddings(batch_text):\n",
    "    \"\"\"Tokeniza un lote de texto y obtiene el embedding [CLS] de BERT.\"\"\"\n",
    "    inputs = tokenizer_bert(batch_text, padding=True, truncation=True, \n",
    "                          max_length=MAX_TOKEN_LENGTH, return_tensors='pt')\n",
    "    inputs = {k: v.to(device) for k, v in inputs.items()}\n",
    "    with torch.no_grad():\n",
    "        outputs = model(**inputs)\n",
    "    cls_embeddings = outputs.last_hidden_state[:, 0, :].cpu().numpy()\n",
    "    return cls_embeddings\n",
    "\n",
    "print(\"\\nGenerando embeddings... Esto puede tardar varios minutos.\")\n",
    "batch_size = 32\n",
    "all_embeddings = []\n",
    "\n",
    "for i in tqdm(range(0, len(df), batch_size)):\n",
    "    batch_text = df.iloc[i:i+batch_size]['text_cleaned'].tolist()\n",
    "    embeddings = get_bert_embeddings(batch_text)\n",
    "    all_embeddings.append(embeddings)\n",
    "\n",
    "final_embeddings = np.vstack(all_embeddings)\n",
    "\n",
    "embedding_cols = [f'dim_{i}' for i in range(final_embeddings.shape[1])]\n",
    "df_embeddings = pd.DataFrame(final_embeddings, columns=embedding_cols, index=df.index)\n",
    "\n",
    "# Unir los embeddings con el dataframe original\n",
    "df_processed = pd.concat([df, df_embeddings], axis=1)\n",
    "\n",
    "# Guardar el resultado para los siguientes pasos\n",
    "df_processed.to_csv(PROCESSED_DATA_PATH, index=False)\n",
    "\n",
    "print(f\"\\n✓ Datos procesados (con embeddings) guardados en: {PROCESSED_DATA_PATH}\")\n",
    "print(\"Dimensiones del DataFrame final:\", df_processed.shape)\n",
    "print(df_processed.head())"
   ]
  },
  {
   "cell_type": "markdown",
   "id": "split_md",
   "metadata": {},
   "source": [
    "## 4. División y Codificación de Datos\n",
    "Dividimos el dataset completo en entrenamiento, validación y prueba, asegurando que todas las características (embeddings, texto para TF-IDF) se dividan de forma consistente."
   ]
  },
  {
   "cell_type": "code",
   "execution_count": 6,
   "id": "c6c4d1a8",
   "metadata": {},
   "outputs": [
    {
     "name": "stdout",
     "output_type": "stream",
     "text": [
      "\n",
      "--- Ejecutando Lógica de División de Datos ---\n",
      "Datos cargados. 5000 filas.\n",
      "Se detectaron 2 clases.\n",
      "Dividiendo los datos en conjuntos de entrenamiento, validación y prueba...\n",
      "Tamaño Train: 3000, Val: 1000, Test: 1000\n",
      "\n",
      "✓ División completada. Datos guardados en datos_locales\\processed\\local-ensemble-job-1750829529\n"
     ]
    }
   ],
   "source": [
    "print(\"\\n--- Ejecutando Lógica de División de Datos ---\")\n",
    "\n",
    "df = pd.read_csv(PROCESSED_DATA_PATH)\n",
    "df['text_stemmed'] = df['text_stemmed'].fillna('') # Rellenar NaNs por si acaso\n",
    "print(f\"Datos cargados. {len(df)} filas.\")\n",
    "\n",
    "# Ya que es binario, no necesitamos filtrar clases\n",
    "y = df['target'].values\n",
    "num_classes = len(np.unique(y))\n",
    "print(f\"Se detectaron {num_classes} clases.\")\n",
    "\n",
    "# Dividir el DataFrame completo para mantener la alineación\n",
    "print(\"Dividiendo los datos en conjuntos de entrenamiento, validación y prueba...\")\n",
    "df_trainval, df_test, y_trainval, y_test = train_test_split(\n",
    "    df, y, test_size=0.2, random_state=42, stratify=y\n",
    ")\n",
    "df_train, df_val, y_train, y_val = train_test_split(\n",
    "    df_trainval, y_trainval, test_size=0.25, random_state=42, stratify=y_trainval\n",
    ")\n",
    "\n",
    "print(f\"Tamaño Train: {len(df_train)}, Val: {len(df_val)}, Test: {len(df_test)}\")\n",
    "\n",
    "# Extraer características para cada conjunto de datos\n",
    "embedding_cols = [col for col in df.columns if col.startswith('dim_')]\n",
    "X_train_emb = df_train[embedding_cols].values\n",
    "X_val_emb = df_val[embedding_cols].values\n",
    "X_test_emb = df_test[embedding_cols].values\n",
    "\n",
    "X_train_text = df_train['text_stemmed'].values\n",
    "X_val_text = df_val['text_stemmed'].values\n",
    "X_test_text = df_test['text_stemmed'].values\n",
    "\n",
    "# Guardar los datos de prueba para la evaluación final\n",
    "with open(os.path.join(PROCESSED_DIR, 'test_embeddings.pkl'), 'wb') as f: pickle.dump(X_test_emb, f)\n",
    "with open(os.path.join(PROCESSED_DIR, 'test_text_stemmed.pkl'), 'wb') as f: pickle.dump(X_test_text, f)\n",
    "with open(os.path.join(PROCESSED_DIR, 'test_labels.pkl'), 'wb') as f: pickle.dump(y_test, f)\n",
    "\n",
    "print(f\"\\n✓ División completada. Datos guardados en {PROCESSED_DIR}\")"
   ]
  },
  {
   "cell_type": "markdown",
   "id": "new_train_md_1",
   "metadata": {},
   "source": [
    "## 5. Entrenamiento Multi-Modelo con Optuna\n",
    "\n",
    "Optimizaremos cuatro modelos. Tres usarán los embeddings de BERT y uno nuevo usará características TF-IDF."
   ]
  },
  {
   "cell_type": "code",
   "execution_count": 7,
   "id": "new_train_setup",
   "metadata": {},
   "outputs": [
    {
     "name": "stdout",
     "output_type": "stream",
     "text": [
      "--- Preparando datos para el entrenamiento ---\n",
      "TF-IDF: 10000 características generadas.\n",
      "\n",
      "✓ Datos escalados, vectorizados y tensores de PyTorch listos.\n"
     ]
    }
   ],
   "source": [
    "import optuna\n",
    "from sklearn.preprocessing import StandardScaler\n",
    "from sklearn.linear_model import LogisticRegression\n",
    "import torch.nn as nn\n",
    "import torch.optim as optim\n",
    "from torch.utils.data import DataLoader, TensorDataset\n",
    "import warnings\n",
    "\n",
    "warnings.filterwarnings('ignore', category=UserWarning)\n",
    "\n",
    "print(\"--- Preparando datos para el entrenamiento ---\")\n",
    "# 1. Escalar características de embeddings\n",
    "scaler = StandardScaler()\n",
    "X_train_emb_scaled = scaler.fit_transform(X_train_emb)\n",
    "X_val_emb_scaled = scaler.transform(X_val_emb)\n",
    "\n",
    "# 2. Vectorizar características de texto con TF-IDF (usa Scipy internamente)\n",
    "tfidf_vectorizer = TfidfVectorizer(max_features=10000, ngram_range=(1, 2))\n",
    "X_train_tfidf = tfidf_vectorizer.fit_transform(X_train_text)\n",
    "X_val_tfidf = tfidf_vectorizer.transform(X_val_text)\n",
    "print(f\"TF-IDF: {X_train_tfidf.shape[1]} características generadas.\")\n",
    "\n",
    "# 3. Convertir datos de validación a tensores para PyTorch\n",
    "X_val_torch = torch.tensor(X_val_emb_scaled, dtype=torch.float32).to(device)\n",
    "y_val_torch = torch.tensor(y_val, dtype=torch.long).to(device)\n",
    "\n",
    "print(\"\\n✓ Datos escalados, vectorizados y tensores de PyTorch listos.\")"
   ]
  },
  {
   "cell_type": "markdown",
   "id": "new_train_md_2",
   "metadata": {},
   "source": [
    "### 5.1 Definición de las Funciones Objetivo para Optuna\n",
    "\n",
    "Cada función `objective` define cómo Optuna entrena y evalúa un modelo. El objetivo es minimizar `log_loss`."
   ]
  },
  {
   "cell_type": "code",
   "execution_count": 8,
   "id": "new_train_objectives",
   "metadata": {},
   "outputs": [
    {
     "name": "stdout",
     "output_type": "stream",
     "text": [
      "Funciones objetivo de Optuna definidas.\n"
     ]
    }
   ],
   "source": [
    "# --- 1. Objetivo para MLP con PyTorch (Usa Embeddings) ---\n",
    "class MLP(nn.Module):\n",
    "    def __init__(self, input_size, hidden_layers, output_size, activation_fn, dropout_rate):\n",
    "        super(MLP, self).__init__()\n",
    "        layers = []\n",
    "        current_size = input_size\n",
    "        for hidden_size in hidden_layers:\n",
    "            layers.append(nn.Linear(current_size, hidden_size))\n",
    "            layers.append(activation_fn())\n",
    "            layers.append(nn.Dropout(dropout_rate))\n",
    "            current_size = hidden_size\n",
    "        layers.append(nn.Linear(current_size, output_size))\n",
    "        self.model = nn.Sequential(*layers)\n",
    "\n",
    "    def forward(self, x):\n",
    "        return self.model(x)\n",
    "\n",
    "def objective_mlp(trial):\n",
    "    n_layers = trial.suggest_int('n_layers', 1, 3)\n",
    "    hidden_layers = [trial.suggest_int(f'n_units_l{i}', 32, 256) for i in range(n_layers)]\n",
    "    dropout_rate = trial.suggest_float('dropout_rate', 0.1, 0.5)\n",
    "    optimizer_name = trial.suggest_categorical('optimizer', ['Adam', 'RMSprop'])\n",
    "    lr = trial.suggest_float('lr', 1e-5, 1e-2, log=True)\n",
    "    activation_fn = getattr(nn, trial.suggest_categorical('activation', ['ReLU', 'Tanh']))\n",
    "    \n",
    "    model = MLP(X_train_emb_scaled.shape[1], hidden_layers, num_classes, activation_fn, dropout_rate).to(device)\n",
    "    optimizer = getattr(optim, optimizer_name)(model.parameters(), lr=lr)\n",
    "    criterion = nn.CrossEntropyLoss()\n",
    "    train_dataset = TensorDataset(torch.tensor(X_train_emb_scaled, dtype=torch.float32), torch.tensor(y_train, dtype=torch.long))\n",
    "    train_loader = DataLoader(train_dataset, batch_size=128, shuffle=True)\n",
    "\n",
    "    for epoch in range(25): # Menos epochs para HPO más rápido\n",
    "        model.train()\n",
    "        for data, target in train_loader:\n",
    "            data, target = data.to(device), target.to(device)\n",
    "            optimizer.zero_grad()\n",
    "            loss = criterion(model(data), target)\n",
    "            loss.backward()\n",
    "            optimizer.step()\n",
    "        \n",
    "    model.eval()\n",
    "    with torch.no_grad():\n",
    "        val_loss = criterion(model(X_val_torch), y_val_torch).item()\n",
    "    \n",
    "    trial.report(val_loss, epoch)\n",
    "    if trial.should_prune(): raise optuna.exceptions.TrialPruned()\n",
    "    return val_loss\n",
    "\n",
    "# --- 2. Objetivo para XGBoost (Usa Embeddings) ---\n",
    "def objective_xgboost(trial):\n",
    "    params = {\n",
    "        'objective': 'binary:logistic' if num_classes == 2 else 'multi:softprob',\n",
    "        'eval_metric': 'logloss' if num_classes == 2 else 'mlogloss',\n",
    "        'device': 'cuda' if device.type == 'cuda' else 'cpu',\n",
    "        'n_estimators': trial.suggest_int('n_estimators', 100, 1000),\n",
    "        'learning_rate': trial.suggest_float('learning_rate', 0.01, 0.3, log=True),\n",
    "        'max_depth': trial.suggest_int('max_depth', 3, 9),\n",
    "    }\n",
    "    model = xgb.XGBClassifier(**params, early_stopping_rounds=10, use_label_encoder=False)\n",
    "    model.fit(X_train_emb, y_train, eval_set=[(X_val_emb, y_val)], verbose=False)\n",
    "    return log_loss(y_val, model.predict_proba(X_val_emb))\n",
    "\n",
    "# --- 3. Objetivo para Regresión Logística (Usa Embeddings) ---\n",
    "def objective_logistic_embeddings(trial):\n",
    "    params = {'C': trial.suggest_float('C', 1e-4, 1e2, log=True), 'solver': 'liblinear'}\n",
    "    model = LogisticRegression(**params, random_state=42)\n",
    "    model.fit(X_train_emb_scaled, y_train)\n",
    "    return log_loss(y_val, model.predict_proba(X_val_emb_scaled))\n",
    "\n",
    "# --- 4. NUEVO: Objetivo para Regresión Logística (Usa TF-IDF) ---\n",
    "def objective_logistic_tfidf(trial):\n",
    "    params = {'C': trial.suggest_float('C', 1e-2, 1e2, log=True), 'solver': 'liblinear'}\n",
    "    model = LogisticRegression(**params, random_state=42)\n",
    "    # Usa las características TF-IDF\n",
    "    model.fit(X_train_tfidf, y_train)\n",
    "    return log_loss(y_val, model.predict_proba(X_val_tfidf))\n",
    "\n",
    "print(f\"Funciones objetivo de Optuna definidas.\")"
   ]
  },
  {
   "cell_type": "markdown",
   "id": "new_train_md_3",
   "metadata": {},
   "source": [
    "### 5.2 Ejecución de la Búsqueda de Hiperparámetros\n",
    "Lanzamos los estudios de Optuna para cada uno de los cuatro modelos."
   ]
  },
  {
   "cell_type": "code",
   "execution_count": 9,
   "id": "new_train_hpo_run",
   "metadata": {},
   "outputs": [
    {
     "name": "stderr",
     "output_type": "stream",
     "text": [
      "[I 2025-06-24 23:32:28,052] A new study created in memory with name: no-name-1bfcf294-c7a0-4cb1-b836-aef8fbde07a0\n"
     ]
    },
    {
     "name": "stdout",
     "output_type": "stream",
     "text": [
      "\n",
      "--- Optimizando XGBoost ---\n"
     ]
    },
    {
     "name": "stderr",
     "output_type": "stream",
     "text": [
      "Best trial: 0. Best value: 0.441952:   4%|▍         | 1/25 [00:01<00:40,  1.69s/it]"
     ]
    },
    {
     "name": "stdout",
     "output_type": "stream",
     "text": [
      "[I 2025-06-24 23:32:29,732] Trial 0 finished with value: 0.4419518685769909 and parameters: {'n_estimators': 437, 'learning_rate': 0.2536999076681772, 'max_depth': 8}. Best is trial 0 with value: 0.4419518685769909.\n"
     ]
    },
    {
     "name": "stderr",
     "output_type": "stream",
     "text": [
      "Best trial: 1. Best value: 0.375628:   8%|▊         | 2/25 [00:05<01:06,  2.87s/it]"
     ]
    },
    {
     "name": "stdout",
     "output_type": "stream",
     "text": [
      "[I 2025-06-24 23:32:33,432] Trial 1 finished with value: 0.3756275011818982 and parameters: {'n_estimators': 639, 'learning_rate': 0.01700037298921102, 'max_depth': 4}. Best is trial 1 with value: 0.3756275011818982.\n"
     ]
    },
    {
     "name": "stderr",
     "output_type": "stream",
     "text": [
      "Best trial: 1. Best value: 0.375628:  12%|█▏        | 3/25 [00:06<00:46,  2.09s/it]"
     ]
    },
    {
     "name": "stdout",
     "output_type": "stream",
     "text": [
      "[I 2025-06-24 23:32:34,604] Trial 2 finished with value: 0.4176275118919651 and parameters: {'n_estimators': 152, 'learning_rate': 0.19030368381735815, 'max_depth': 7}. Best is trial 1 with value: 0.3756275011818982.\n"
     ]
    },
    {
     "name": "stderr",
     "output_type": "stream",
     "text": [
      "Best trial: 1. Best value: 0.375628:  16%|█▌        | 4/25 [00:25<03:05,  8.83s/it]"
     ]
    },
    {
     "name": "stdout",
     "output_type": "stream",
     "text": [
      "[I 2025-06-24 23:32:53,763] Trial 3 finished with value: 0.41761484367799917 and parameters: {'n_estimators': 737, 'learning_rate': 0.010725209743171996, 'max_depth': 9}. Best is trial 1 with value: 0.3756275011818982.\n"
     ]
    },
    {
     "name": "stderr",
     "output_type": "stream",
     "text": [
      "Best trial: 4. Best value: 0.369659:  20%|██        | 5/25 [00:29<02:19,  6.97s/it]"
     ]
    },
    {
     "name": "stdout",
     "output_type": "stream",
     "text": [
      "[I 2025-06-24 23:32:57,433] Trial 4 finished with value: 0.36965940257015417 and parameters: {'n_estimators': 850, 'learning_rate': 0.020589728197687916, 'max_depth': 4}. Best is trial 4 with value: 0.36965940257015417.\n"
     ]
    },
    {
     "name": "stderr",
     "output_type": "stream",
     "text": [
      "Best trial: 4. Best value: 0.369659:  24%|██▍       | 6/25 [00:33<01:56,  6.16s/it]"
     ]
    },
    {
     "name": "stdout",
     "output_type": "stream",
     "text": [
      "[I 2025-06-24 23:33:02,007] Trial 5 finished with value: 0.38523756121966973 and parameters: {'n_estimators': 265, 'learning_rate': 0.028145092716060652, 'max_depth': 6}. Best is trial 4 with value: 0.36965940257015417.\n"
     ]
    },
    {
     "name": "stderr",
     "output_type": "stream",
     "text": [
      "Best trial: 4. Best value: 0.369659:  28%|██▊       | 7/25 [00:38<01:43,  5.77s/it]"
     ]
    },
    {
     "name": "stdout",
     "output_type": "stream",
     "text": [
      "[I 2025-06-24 23:33:06,969] Trial 6 finished with value: 0.3995788677252723 and parameters: {'n_estimators': 489, 'learning_rate': 0.02692655251486473, 'max_depth': 7}. Best is trial 4 with value: 0.36965940257015417.\n"
     ]
    },
    {
     "name": "stderr",
     "output_type": "stream",
     "text": [
      "Best trial: 4. Best value: 0.369659:  32%|███▏      | 8/25 [00:41<01:21,  4.77s/it]"
     ]
    },
    {
     "name": "stdout",
     "output_type": "stream",
     "text": [
      "[I 2025-06-24 23:33:09,602] Trial 7 finished with value: 0.381394501171671 and parameters: {'n_estimators': 225, 'learning_rate': 0.027010527749605478, 'max_depth': 5}. Best is trial 4 with value: 0.36965940257015417.\n"
     ]
    },
    {
     "name": "stderr",
     "output_type": "stream",
     "text": [
      "Best trial: 4. Best value: 0.369659:  36%|███▌      | 9/25 [00:42<00:56,  3.51s/it]"
     ]
    },
    {
     "name": "stdout",
     "output_type": "stream",
     "text": [
      "[I 2025-06-24 23:33:10,356] Trial 8 finished with value: 0.3849677924737679 and parameters: {'n_estimators': 510, 'learning_rate': 0.14447746112718687, 'max_depth': 4}. Best is trial 4 with value: 0.36965940257015417.\n"
     ]
    },
    {
     "name": "stderr",
     "output_type": "stream",
     "text": [
      "Best trial: 9. Best value: 0.368914:  40%|████      | 10/25 [00:43<00:40,  2.68s/it]"
     ]
    },
    {
     "name": "stdout",
     "output_type": "stream",
     "text": [
      "[I 2025-06-24 23:33:11,176] Trial 9 finished with value: 0.3689144148185189 and parameters: {'n_estimators': 563, 'learning_rate': 0.07500118950416987, 'max_depth': 3}. Best is trial 9 with value: 0.3689144148185189.\n"
     ]
    },
    {
     "name": "stderr",
     "output_type": "stream",
     "text": [
      "Best trial: 9. Best value: 0.368914:  44%|████▍     | 11/25 [00:43<00:29,  2.10s/it]"
     ]
    },
    {
     "name": "stdout",
     "output_type": "stream",
     "text": [
      "[I 2025-06-24 23:33:11,950] Trial 10 finished with value: 0.37182897765272604 and parameters: {'n_estimators': 951, 'learning_rate': 0.09121222976475842, 'max_depth': 3}. Best is trial 9 with value: 0.3689144148185189.\n"
     ]
    },
    {
     "name": "stderr",
     "output_type": "stream",
     "text": [
      "Best trial: 9. Best value: 0.368914:  48%|████▊     | 12/25 [00:45<00:23,  1.83s/it]"
     ]
    },
    {
     "name": "stdout",
     "output_type": "stream",
     "text": [
      "[I 2025-06-24 23:33:13,165] Trial 11 finished with value: 0.37354473161121443 and parameters: {'n_estimators': 884, 'learning_rate': 0.05438690315385865, 'max_depth': 3}. Best is trial 9 with value: 0.3689144148185189.\n"
     ]
    },
    {
     "name": "stderr",
     "output_type": "stream",
     "text": [
      "Best trial: 9. Best value: 0.368914:  52%|█████▏    | 13/25 [00:46<00:20,  1.67s/it]"
     ]
    },
    {
     "name": "stdout",
     "output_type": "stream",
     "text": [
      "[I 2025-06-24 23:33:14,465] Trial 12 finished with value: 0.3800867933688345 and parameters: {'n_estimators': 717, 'learning_rate': 0.05789355613863403, 'max_depth': 4}. Best is trial 9 with value: 0.3689144148185189.\n"
     ]
    },
    {
     "name": "stderr",
     "output_type": "stream",
     "text": [
      "Best trial: 9. Best value: 0.368914:  56%|█████▌    | 14/25 [00:48<00:18,  1.65s/it]"
     ]
    },
    {
     "name": "stdout",
     "output_type": "stream",
     "text": [
      "[I 2025-06-24 23:33:16,063] Trial 13 finished with value: 0.38501740732968 and parameters: {'n_estimators': 826, 'learning_rate': 0.05715854510058415, 'max_depth': 5}. Best is trial 9 with value: 0.3689144148185189.\n"
     ]
    },
    {
     "name": "stderr",
     "output_type": "stream",
     "text": [
      "Best trial: 9. Best value: 0.368914:  60%|██████    | 15/25 [00:48<00:14,  1.44s/it]"
     ]
    },
    {
     "name": "stdout",
     "output_type": "stream",
     "text": [
      "[I 2025-06-24 23:33:17,037] Trial 14 finished with value: 0.37142257566328274 and parameters: {'n_estimators': 369, 'learning_rate': 0.08260257160095796, 'max_depth': 3}. Best is trial 9 with value: 0.3689144148185189.\n"
     ]
    },
    {
     "name": "stderr",
     "output_type": "stream",
     "text": [
      "Best trial: 9. Best value: 0.368914:  64%|██████▍   | 16/25 [00:56<00:28,  3.18s/it]"
     ]
    },
    {
     "name": "stdout",
     "output_type": "stream",
     "text": [
      "[I 2025-06-24 23:33:24,234] Trial 15 finished with value: 0.37678210847124083 and parameters: {'n_estimators': 636, 'learning_rate': 0.01044975763800043, 'max_depth': 5}. Best is trial 9 with value: 0.3689144148185189.\n"
     ]
    },
    {
     "name": "stderr",
     "output_type": "stream",
     "text": [
      "Best trial: 9. Best value: 0.368914:  68%|██████▊   | 17/25 [00:57<00:22,  2.77s/it]"
     ]
    },
    {
     "name": "stdout",
     "output_type": "stream",
     "text": [
      "[I 2025-06-24 23:33:26,045] Trial 16 finished with value: 0.3743826838785048 and parameters: {'n_estimators': 785, 'learning_rate': 0.037370046395123875, 'max_depth': 4}. Best is trial 9 with value: 0.3689144148185189.\n"
     ]
    },
    {
     "name": "stderr",
     "output_type": "stream",
     "text": [
      "Best trial: 9. Best value: 0.368914:  72%|███████▏  | 18/25 [01:01<00:20,  2.86s/it]"
     ]
    },
    {
     "name": "stdout",
     "output_type": "stream",
     "text": [
      "[I 2025-06-24 23:33:29,131] Trial 17 finished with value: 0.37312968637768607 and parameters: {'n_estimators': 999, 'learning_rate': 0.016358849852504267, 'max_depth': 3}. Best is trial 9 with value: 0.3689144148185189.\n"
     ]
    },
    {
     "name": "stderr",
     "output_type": "stream",
     "text": [
      "Best trial: 9. Best value: 0.368914:  76%|███████▌  | 19/25 [01:02<00:14,  2.47s/it]"
     ]
    },
    {
     "name": "stdout",
     "output_type": "stream",
     "text": [
      "[I 2025-06-24 23:33:30,690] Trial 18 finished with value: 0.39804032377136234 and parameters: {'n_estimators': 612, 'learning_rate': 0.09750750843844959, 'max_depth': 6}. Best is trial 9 with value: 0.3689144148185189.\n"
     ]
    },
    {
     "name": "stderr",
     "output_type": "stream",
     "text": [
      "Best trial: 9. Best value: 0.368914:  80%|████████  | 20/25 [01:04<00:11,  2.40s/it]"
     ]
    },
    {
     "name": "stdout",
     "output_type": "stream",
     "text": [
      "[I 2025-06-24 23:33:32,922] Trial 19 finished with value: 0.37914019330261517 and parameters: {'n_estimators': 374, 'learning_rate': 0.040250072422226335, 'max_depth': 5}. Best is trial 9 with value: 0.3689144148185189.\n"
     ]
    },
    {
     "name": "stderr",
     "output_type": "stream",
     "text": [
      "Best trial: 9. Best value: 0.368914:  84%|████████▍ | 21/25 [01:08<00:10,  2.71s/it]"
     ]
    },
    {
     "name": "stdout",
     "output_type": "stream",
     "text": [
      "[I 2025-06-24 23:33:36,357] Trial 20 finished with value: 0.3726786698075075 and parameters: {'n_estimators': 885, 'learning_rate': 0.018145792977098247, 'max_depth': 4}. Best is trial 9 with value: 0.3689144148185189.\n"
     ]
    },
    {
     "name": "stderr",
     "output_type": "stream",
     "text": [
      "Best trial: 9. Best value: 0.368914:  88%|████████▊ | 22/25 [01:09<00:06,  2.11s/it]"
     ]
    },
    {
     "name": "stdout",
     "output_type": "stream",
     "text": [
      "[I 2025-06-24 23:33:37,081] Trial 21 finished with value: 0.3703387166486488 and parameters: {'n_estimators': 363, 'learning_rate': 0.0881676847655526, 'max_depth': 3}. Best is trial 9 with value: 0.3689144148185189.\n"
     ]
    },
    {
     "name": "stderr",
     "output_type": "stream",
     "text": [
      "Best trial: 9. Best value: 0.368914:  92%|█████████▏| 23/25 [01:09<00:03,  1.63s/it]"
     ]
    },
    {
     "name": "stdout",
     "output_type": "stream",
     "text": [
      "[I 2025-06-24 23:33:37,576] Trial 22 finished with value: 0.38673767606247056 and parameters: {'n_estimators': 305, 'learning_rate': 0.13570390610987368, 'max_depth': 3}. Best is trial 9 with value: 0.3689144148185189.\n"
     ]
    },
    {
     "name": "stderr",
     "output_type": "stream",
     "text": [
      "Best trial: 9. Best value: 0.368914:  96%|█████████▌| 24/25 [01:10<00:01,  1.31s/it]"
     ]
    },
    {
     "name": "stdout",
     "output_type": "stream",
     "text": [
      "[I 2025-06-24 23:33:38,144] Trial 23 finished with value: 0.3781965145624714 and parameters: {'n_estimators': 105, 'learning_rate': 0.07506484887327174, 'max_depth': 3}. Best is trial 9 with value: 0.3689144148185189.\n"
     ]
    },
    {
     "name": "stderr",
     "output_type": "stream",
     "text": [
      "Best trial: 9. Best value: 0.368914: 100%|██████████| 25/25 [01:10<00:00,  2.83s/it]\n",
      "[I 2025-06-24 23:33:38,894] A new study created in memory with name: no-name-49e33020-c811-43aa-8b91-c2f59c0e4c50\n"
     ]
    },
    {
     "name": "stdout",
     "output_type": "stream",
     "text": [
      "[I 2025-06-24 23:33:38,888] Trial 24 finished with value: 0.37926629207655344 and parameters: {'n_estimators': 587, 'learning_rate': 0.14397451657366406, 'max_depth': 4}. Best is trial 9 with value: 0.3689144148185189.\n",
      "✓ XGBoost completado. Mejor LogLoss: 0.3689\n",
      "\n",
      "--- Optimizando MLP_PyTorch ---\n"
     ]
    },
    {
     "name": "stderr",
     "output_type": "stream",
     "text": [
      "Best trial: 0. Best value: 0.415453:   3%|▎         | 1/30 [00:01<00:44,  1.53s/it]"
     ]
    },
    {
     "name": "stdout",
     "output_type": "stream",
     "text": [
      "[I 2025-06-24 23:33:40,421] Trial 0 finished with value: 0.41545286774635315 and parameters: {'n_layers': 2, 'n_units_l0': 245, 'n_units_l1': 196, 'dropout_rate': 0.3394633936788146, 'optimizer': 'Adam', 'lr': 1.493656855461762e-05, 'activation': 'ReLU'}. Best is trial 0 with value: 0.41545286774635315.\n"
     ]
    },
    {
     "name": "stderr",
     "output_type": "stream",
     "text": [
      "Best trial: 1. Best value: 0.398494:   7%|▋         | 2/30 [00:02<00:41,  1.48s/it]"
     ]
    },
    {
     "name": "stdout",
     "output_type": "stream",
     "text": [
      "[I 2025-06-24 23:33:41,868] Trial 1 finished with value: 0.39849424362182617 and parameters: {'n_layers': 3, 'n_units_l0': 36, 'n_units_l1': 250, 'n_units_l2': 219, 'dropout_rate': 0.18493564427131048, 'optimizer': 'RMSprop', 'lr': 8.17949947521167e-05, 'activation': 'ReLU'}. Best is trial 1 with value: 0.39849424362182617.\n"
     ]
    },
    {
     "name": "stderr",
     "output_type": "stream",
     "text": [
      "Best trial: 1. Best value: 0.398494:  10%|█         | 3/30 [00:04<00:36,  1.34s/it]"
     ]
    },
    {
     "name": "stdout",
     "output_type": "stream",
     "text": [
      "[I 2025-06-24 23:33:43,033] Trial 2 finished with value: 0.4593694508075714 and parameters: {'n_layers': 1, 'n_units_l0': 169, 'dropout_rate': 0.15579754426081674, 'optimizer': 'RMSprop', 'lr': 0.00023345864076016249, 'activation': 'ReLU'}. Best is trial 1 with value: 0.39849424362182617.\n"
     ]
    },
    {
     "name": "stderr",
     "output_type": "stream",
     "text": [
      "Best trial: 1. Best value: 0.398494:  13%|█▎        | 4/30 [00:05<00:35,  1.36s/it]"
     ]
    },
    {
     "name": "stdout",
     "output_type": "stream",
     "text": [
      "[I 2025-06-24 23:33:44,436] Trial 3 finished with value: 1.0824207067489624 and parameters: {'n_layers': 2, 'n_units_l0': 165, 'n_units_l1': 42, 'dropout_rate': 0.34301794076057535, 'optimizer': 'Adam', 'lr': 0.007025166339242158, 'activation': 'ReLU'}. Best is trial 1 with value: 0.39849424362182617.\n"
     ]
    },
    {
     "name": "stderr",
     "output_type": "stream",
     "text": [
      "Best trial: 4. Best value: 0.380902:  17%|█▋        | 5/30 [00:06<00:32,  1.30s/it]"
     ]
    },
    {
     "name": "stdout",
     "output_type": "stream",
     "text": [
      "[I 2025-06-24 23:33:45,632] Trial 4 finished with value: 0.3809016942977905 and parameters: {'n_layers': 1, 'n_units_l0': 53, 'dropout_rate': 0.3736932106048628, 'optimizer': 'Adam', 'lr': 0.0003058656666978527, 'activation': 'Tanh'}. Best is trial 4 with value: 0.3809016942977905.\n"
     ]
    },
    {
     "name": "stderr",
     "output_type": "stream",
     "text": [
      "Best trial: 5. Best value: 0.350412:  20%|██        | 6/30 [00:07<00:30,  1.26s/it]"
     ]
    },
    {
     "name": "stdout",
     "output_type": "stream",
     "text": [
      "[I 2025-06-24 23:33:46,812] Trial 5 finished with value: 0.3504122495651245 and parameters: {'n_layers': 1, 'n_units_l0': 181, 'dropout_rate': 0.2246844304357644, 'optimizer': 'RMSprop', 'lr': 3.585612610345396e-05, 'activation': 'ReLU'}. Best is trial 5 with value: 0.3504122495651245.\n"
     ]
    },
    {
     "name": "stderr",
     "output_type": "stream",
     "text": [
      "Best trial: 5. Best value: 0.350412:  23%|██▎       | 7/30 [00:09<00:31,  1.35s/it]"
     ]
    },
    {
     "name": "stdout",
     "output_type": "stream",
     "text": [
      "[I 2025-06-24 23:33:48,344] Trial 6 pruned. \n"
     ]
    },
    {
     "name": "stderr",
     "output_type": "stream",
     "text": [
      "Best trial: 5. Best value: 0.350412:  27%|██▋       | 8/30 [00:10<00:30,  1.40s/it]"
     ]
    },
    {
     "name": "stdout",
     "output_type": "stream",
     "text": [
      "[I 2025-06-24 23:33:49,839] Trial 7 pruned. \n"
     ]
    },
    {
     "name": "stderr",
     "output_type": "stream",
     "text": [
      "Best trial: 5. Best value: 0.350412:  30%|███       | 9/30 [00:12<00:28,  1.35s/it]"
     ]
    },
    {
     "name": "stdout",
     "output_type": "stream",
     "text": [
      "[I 2025-06-24 23:33:51,103] Trial 8 finished with value: 0.3840537667274475 and parameters: {'n_layers': 1, 'n_units_l0': 215, 'dropout_rate': 0.38274293753904687, 'optimizer': 'RMSprop', 'lr': 1.667761543019792e-05, 'activation': 'ReLU'}. Best is trial 5 with value: 0.3504122495651245.\n"
     ]
    },
    {
     "name": "stderr",
     "output_type": "stream",
     "text": [
      "Best trial: 5. Best value: 0.350412:  33%|███▎      | 10/30 [00:13<00:27,  1.38s/it]"
     ]
    },
    {
     "name": "stdout",
     "output_type": "stream",
     "text": [
      "[I 2025-06-24 23:33:52,528] Trial 9 pruned. \n"
     ]
    },
    {
     "name": "stderr",
     "output_type": "stream",
     "text": [
      "Best trial: 5. Best value: 0.350412:  37%|███▋      | 11/30 [00:14<00:24,  1.31s/it]"
     ]
    },
    {
     "name": "stdout",
     "output_type": "stream",
     "text": [
      "[I 2025-06-24 23:33:53,693] Trial 10 pruned. \n"
     ]
    },
    {
     "name": "stderr",
     "output_type": "stream",
     "text": [
      "Best trial: 5. Best value: 0.350412:  40%|████      | 12/30 [00:15<00:22,  1.27s/it]"
     ]
    },
    {
     "name": "stdout",
     "output_type": "stream",
     "text": [
      "[I 2025-06-24 23:33:54,879] Trial 11 pruned. \n"
     ]
    },
    {
     "name": "stderr",
     "output_type": "stream",
     "text": [
      "Best trial: 5. Best value: 0.350412:  43%|████▎     | 13/30 [00:17<00:21,  1.29s/it]"
     ]
    },
    {
     "name": "stdout",
     "output_type": "stream",
     "text": [
      "[I 2025-06-24 23:33:56,194] Trial 12 pruned. \n"
     ]
    },
    {
     "name": "stderr",
     "output_type": "stream",
     "text": [
      "Best trial: 5. Best value: 0.350412:  47%|████▋     | 14/30 [00:18<00:20,  1.26s/it]"
     ]
    },
    {
     "name": "stdout",
     "output_type": "stream",
     "text": [
      "[I 2025-06-24 23:33:57,395] Trial 13 pruned. \n"
     ]
    },
    {
     "name": "stderr",
     "output_type": "stream",
     "text": [
      "Best trial: 5. Best value: 0.350412:  50%|█████     | 15/30 [00:19<00:18,  1.27s/it]"
     ]
    },
    {
     "name": "stdout",
     "output_type": "stream",
     "text": [
      "[I 2025-06-24 23:33:58,671] Trial 14 finished with value: 0.38950103521347046 and parameters: {'n_layers': 1, 'n_units_l0': 201, 'dropout_rate': 0.4505764863334542, 'optimizer': 'Adam', 'lr': 0.00023422328621630747, 'activation': 'Tanh'}. Best is trial 5 with value: 0.3504122495651245.\n"
     ]
    },
    {
     "name": "stderr",
     "output_type": "stream",
     "text": [
      "Best trial: 5. Best value: 0.350412:  53%|█████▎    | 16/30 [00:21<00:18,  1.29s/it]"
     ]
    },
    {
     "name": "stdout",
     "output_type": "stream",
     "text": [
      "[I 2025-06-24 23:34:00,024] Trial 15 pruned. \n"
     ]
    },
    {
     "name": "stderr",
     "output_type": "stream",
     "text": [
      "Best trial: 5. Best value: 0.350412:  57%|█████▋    | 17/30 [00:22<00:16,  1.28s/it]"
     ]
    },
    {
     "name": "stdout",
     "output_type": "stream",
     "text": [
      "[I 2025-06-24 23:34:01,285] Trial 16 finished with value: 0.38353386521339417 and parameters: {'n_layers': 1, 'n_units_l0': 76, 'dropout_rate': 0.24695155488800646, 'optimizer': 'RMSprop', 'lr': 0.00016006854792293955, 'activation': 'Tanh'}. Best is trial 5 with value: 0.3504122495651245.\n"
     ]
    },
    {
     "name": "stderr",
     "output_type": "stream",
     "text": [
      "Best trial: 5. Best value: 0.350412:  60%|██████    | 18/30 [00:23<00:15,  1.32s/it]"
     ]
    },
    {
     "name": "stdout",
     "output_type": "stream",
     "text": [
      "[I 2025-06-24 23:34:02,692] Trial 17 finished with value: 0.37601155042648315 and parameters: {'n_layers': 2, 'n_units_l0': 141, 'n_units_l1': 208, 'dropout_rate': 0.10364018567409636, 'optimizer': 'Adam', 'lr': 3.5138524211670974e-05, 'activation': 'Tanh'}. Best is trial 5 with value: 0.3504122495651245.\n"
     ]
    },
    {
     "name": "stderr",
     "output_type": "stream",
     "text": [
      "Best trial: 5. Best value: 0.350412:  63%|██████▎   | 19/30 [00:25<00:14,  1.33s/it]"
     ]
    },
    {
     "name": "stdout",
     "output_type": "stream",
     "text": [
      "[I 2025-06-24 23:34:04,056] Trial 18 finished with value: 0.3543209135532379 and parameters: {'n_layers': 2, 'n_units_l0': 195, 'n_units_l1': 204, 'dropout_rate': 0.10189604786123588, 'optimizer': 'RMSprop', 'lr': 3.514784107276215e-05, 'activation': 'ReLU'}. Best is trial 5 with value: 0.3504122495651245.\n"
     ]
    },
    {
     "name": "stderr",
     "output_type": "stream",
     "text": [
      "Best trial: 5. Best value: 0.350412:  67%|██████▋   | 20/30 [00:26<00:13,  1.32s/it]"
     ]
    },
    {
     "name": "stdout",
     "output_type": "stream",
     "text": [
      "[I 2025-06-24 23:34:05,339] Trial 19 pruned. \n"
     ]
    },
    {
     "name": "stderr",
     "output_type": "stream",
     "text": [
      "Best trial: 5. Best value: 0.350412:  70%|███████   | 21/30 [00:27<00:11,  1.31s/it]"
     ]
    },
    {
     "name": "stdout",
     "output_type": "stream",
     "text": [
      "[I 2025-06-24 23:34:06,623] Trial 20 finished with value: 0.353155255317688 and parameters: {'n_layers': 2, 'n_units_l0': 192, 'n_units_l1': 209, 'dropout_rate': 0.11042842300750604, 'optimizer': 'RMSprop', 'lr': 3.7901557047388606e-05, 'activation': 'ReLU'}. Best is trial 5 with value: 0.3504122495651245.\n"
     ]
    },
    {
     "name": "stderr",
     "output_type": "stream",
     "text": [
      "Best trial: 5. Best value: 0.350412:  73%|███████▎  | 22/30 [00:29<00:10,  1.30s/it]"
     ]
    },
    {
     "name": "stdout",
     "output_type": "stream",
     "text": [
      "[I 2025-06-24 23:34:07,910] Trial 21 finished with value: 0.35320329666137695 and parameters: {'n_layers': 2, 'n_units_l0': 185, 'n_units_l1': 211, 'dropout_rate': 0.10028961308750294, 'optimizer': 'RMSprop', 'lr': 3.246263999961898e-05, 'activation': 'ReLU'}. Best is trial 5 with value: 0.3504122495651245.\n"
     ]
    },
    {
     "name": "stderr",
     "output_type": "stream",
     "text": [
      "Best trial: 5. Best value: 0.350412:  77%|███████▋  | 23/30 [00:30<00:09,  1.31s/it]"
     ]
    },
    {
     "name": "stdout",
     "output_type": "stream",
     "text": [
      "[I 2025-06-24 23:34:09,230] Trial 22 finished with value: 0.35198625922203064 and parameters: {'n_layers': 2, 'n_units_l0': 217, 'n_units_l1': 166, 'dropout_rate': 0.18663197559690167, 'optimizer': 'RMSprop', 'lr': 2.443785516963524e-05, 'activation': 'ReLU'}. Best is trial 5 with value: 0.3504122495651245.\n"
     ]
    },
    {
     "name": "stderr",
     "output_type": "stream",
     "text": [
      "Best trial: 5. Best value: 0.350412:  80%|████████  | 24/30 [00:31<00:08,  1.35s/it]"
     ]
    },
    {
     "name": "stdout",
     "output_type": "stream",
     "text": [
      "[I 2025-06-24 23:34:10,686] Trial 23 pruned. \n"
     ]
    },
    {
     "name": "stderr",
     "output_type": "stream",
     "text": [
      "Best trial: 5. Best value: 0.350412:  83%|████████▎ | 25/30 [00:33<00:06,  1.33s/it]"
     ]
    },
    {
     "name": "stdout",
     "output_type": "stream",
     "text": [
      "[I 2025-06-24 23:34:11,979] Trial 24 finished with value: 0.36066651344299316 and parameters: {'n_layers': 2, 'n_units_l0': 248, 'n_units_l1': 181, 'dropout_rate': 0.17364642819914874, 'optimizer': 'RMSprop', 'lr': 2.1850156068446692e-05, 'activation': 'ReLU'}. Best is trial 5 with value: 0.3504122495651245.\n"
     ]
    },
    {
     "name": "stderr",
     "output_type": "stream",
     "text": [
      "Best trial: 5. Best value: 0.350412:  87%|████████▋ | 26/30 [00:34<00:05,  1.33s/it]"
     ]
    },
    {
     "name": "stdout",
     "output_type": "stream",
     "text": [
      "[I 2025-06-24 23:34:13,291] Trial 25 pruned. \n"
     ]
    },
    {
     "name": "stderr",
     "output_type": "stream",
     "text": [
      "Best trial: 5. Best value: 0.350412:  90%|█████████ | 27/30 [00:35<00:04,  1.36s/it]"
     ]
    },
    {
     "name": "stdout",
     "output_type": "stream",
     "text": [
      "[I 2025-06-24 23:34:14,730] Trial 26 pruned. \n"
     ]
    },
    {
     "name": "stderr",
     "output_type": "stream",
     "text": [
      "Best trial: 5. Best value: 0.350412:  93%|█████████▎| 28/30 [00:37<00:02,  1.34s/it]"
     ]
    },
    {
     "name": "stdout",
     "output_type": "stream",
     "text": [
      "[I 2025-06-24 23:34:16,012] Trial 27 pruned. \n"
     ]
    },
    {
     "name": "stderr",
     "output_type": "stream",
     "text": [
      "Best trial: 5. Best value: 0.350412:  97%|█████████▋| 29/30 [00:38<00:01,  1.30s/it]"
     ]
    },
    {
     "name": "stdout",
     "output_type": "stream",
     "text": [
      "[I 2025-06-24 23:34:17,235] Trial 28 finished with value: 0.3642427921295166 and parameters: {'n_layers': 1, 'n_units_l0': 213, 'dropout_rate': 0.13276108885909502, 'optimizer': 'RMSprop', 'lr': 2.2943976223859593e-05, 'activation': 'ReLU'}. Best is trial 5 with value: 0.3504122495651245.\n"
     ]
    },
    {
     "name": "stderr",
     "output_type": "stream",
     "text": [
      "Best trial: 5. Best value: 0.350412: 100%|██████████| 30/30 [00:39<00:00,  1.32s/it]\n",
      "[I 2025-06-24 23:34:18,599] A new study created in memory with name: no-name-2c36cc08-480a-4629-a0f5-293ac75c3f15\n"
     ]
    },
    {
     "name": "stdout",
     "output_type": "stream",
     "text": [
      "[I 2025-06-24 23:34:18,599] Trial 29 pruned. \n",
      "✓ MLP_PyTorch completado. Mejor LogLoss: 0.3504\n",
      "\n",
      "--- Optimizando LogisticRegression_Embeddings ---\n"
     ]
    },
    {
     "name": "stderr",
     "output_type": "stream",
     "text": [
      "Best trial: 0. Best value: 0.359715:   5%|▌         | 1/20 [00:00<00:08,  2.21it/s]"
     ]
    },
    {
     "name": "stdout",
     "output_type": "stream",
     "text": [
      "[I 2025-06-24 23:34:19,048] Trial 0 finished with value: 0.35971479754718827 and parameters: {'C': 0.017670169402947963}. Best is trial 0 with value: 0.35971479754718827.\n"
     ]
    },
    {
     "name": "stderr",
     "output_type": "stream",
     "text": [
      "Best trial: 0. Best value: 0.359715:  10%|█         | 2/20 [00:06<01:04,  3.57s/it]"
     ]
    },
    {
     "name": "stdout",
     "output_type": "stream",
     "text": [
      "[I 2025-06-24 23:34:24,798] Trial 1 finished with value: 4.127609283727132 and parameters: {'C': 50.61576888752309}. Best is trial 0 with value: 0.35971479754718827.\n"
     ]
    },
    {
     "name": "stderr",
     "output_type": "stream",
     "text": [
      "Best trial: 0. Best value: 0.359715:  15%|█▌        | 3/20 [00:08<00:47,  2.78s/it]"
     ]
    },
    {
     "name": "stdout",
     "output_type": "stream",
     "text": [
      "[I 2025-06-24 23:34:26,647] Trial 2 finished with value: 1.0656385822910042 and parameters: {'C': 2.465832945854912}. Best is trial 0 with value: 0.35971479754718827.\n"
     ]
    },
    {
     "name": "stderr",
     "output_type": "stream",
     "text": [
      "Best trial: 0. Best value: 0.359715:  20%|██        | 4/20 [00:09<00:33,  2.12s/it]"
     ]
    },
    {
     "name": "stdout",
     "output_type": "stream",
     "text": [
      "[I 2025-06-24 23:34:27,739] Trial 3 finished with value: 0.5654452378665452 and parameters: {'C': 0.39079671568228835}. Best is trial 0 with value: 0.35971479754718827.\n"
     ]
    },
    {
     "name": "stderr",
     "output_type": "stream",
     "text": [
      "Best trial: 0. Best value: 0.359715:  25%|██▌       | 5/20 [00:09<00:21,  1.42s/it]"
     ]
    },
    {
     "name": "stdout",
     "output_type": "stream",
     "text": [
      "[I 2025-06-24 23:34:27,937] Trial 4 finished with value: 0.4407593720311858 and parameters: {'C': 0.0008632008168602544}. Best is trial 0 with value: 0.35971479754718827.\n"
     ]
    },
    {
     "name": "stderr",
     "output_type": "stream",
     "text": [
      "Best trial: 0. Best value: 0.359715:  35%|███▌      | 7/20 [00:09<00:09,  1.36it/s]"
     ]
    },
    {
     "name": "stdout",
     "output_type": "stream",
     "text": [
      "[I 2025-06-24 23:34:28,175] Trial 5 finished with value: 0.4407778536203989 and parameters: {'C': 0.0008629132190071859}. Best is trial 0 with value: 0.35971479754718827.\n",
      "[I 2025-06-24 23:34:28,318] Trial 6 finished with value: 0.5188135662548495 and parameters: {'C': 0.00022310108018679258}. Best is trial 0 with value: 0.35971479754718827.\n"
     ]
    },
    {
     "name": "stderr",
     "output_type": "stream",
     "text": [
      "Best trial: 0. Best value: 0.359715:  40%|████      | 8/20 [00:13<00:18,  1.58s/it]"
     ]
    },
    {
     "name": "stdout",
     "output_type": "stream",
     "text": [
      "[I 2025-06-24 23:34:31,698] Trial 7 finished with value: 2.589937650255491 and parameters: {'C': 15.741890047456648}. Best is trial 0 with value: 0.35971479754718827.\n"
     ]
    },
    {
     "name": "stderr",
     "output_type": "stream",
     "text": [
      "Best trial: 0. Best value: 0.359715:  45%|████▌     | 9/20 [00:14<00:15,  1.43s/it]"
     ]
    },
    {
     "name": "stdout",
     "output_type": "stream",
     "text": [
      "[I 2025-06-24 23:34:32,814] Trial 8 finished with value: 0.5707182580867118 and parameters: {'C': 0.4042872735027334}. Best is trial 0 with value: 0.35971479754718827.\n"
     ]
    },
    {
     "name": "stderr",
     "output_type": "stream",
     "text": [
      "Best trial: 0. Best value: 0.359715:  50%|█████     | 10/20 [00:15<00:14,  1.45s/it]"
     ]
    },
    {
     "name": "stdout",
     "output_type": "stream",
     "text": [
      "[I 2025-06-24 23:34:34,311] Trial 9 finished with value: 0.9326037516268549 and parameters: {'C': 1.7718847354806828}. Best is trial 0 with value: 0.35971479754718827.\n"
     ]
    },
    {
     "name": "stderr",
     "output_type": "stream",
     "text": [
      "Best trial: 10. Best value: 0.359707:  55%|█████▌    | 11/20 [00:16<00:10,  1.14s/it]"
     ]
    },
    {
     "name": "stdout",
     "output_type": "stream",
     "text": [
      "[I 2025-06-24 23:34:34,749] Trial 10 finished with value: 0.3597070463961975 and parameters: {'C': 0.017654677164766052}. Best is trial 10 with value: 0.3597070463961975.\n"
     ]
    },
    {
     "name": "stderr",
     "output_type": "stream",
     "text": [
      "Best trial: 10. Best value: 0.359707:  60%|██████    | 12/20 [00:16<00:07,  1.07it/s]"
     ]
    },
    {
     "name": "stdout",
     "output_type": "stream",
     "text": [
      "[I 2025-06-24 23:34:35,215] Trial 11 finished with value: 0.3600862259514163 and parameters: {'C': 0.018388382022356858}. Best is trial 10 with value: 0.3597070463961975.\n"
     ]
    },
    {
     "name": "stderr",
     "output_type": "stream",
     "text": [
      "Best trial: 12. Best value: 0.358178:  65%|██████▌   | 13/20 [00:17<00:05,  1.26it/s]"
     ]
    },
    {
     "name": "stdout",
     "output_type": "stream",
     "text": [
      "[I 2025-06-24 23:34:35,680] Trial 12 finished with value: 0.35817827557699683 and parameters: {'C': 0.012798666702408415}. Best is trial 12 with value: 0.35817827557699683.\n"
     ]
    },
    {
     "name": "stderr",
     "output_type": "stream",
     "text": [
      "Best trial: 12. Best value: 0.358178:  70%|███████   | 14/20 [00:17<00:04,  1.45it/s]"
     ]
    },
    {
     "name": "stdout",
     "output_type": "stream",
     "text": [
      "[I 2025-06-24 23:34:36,129] Trial 13 finished with value: 0.35817920243468415 and parameters: {'C': 0.012053282859112415}. Best is trial 12 with value: 0.35817827557699683.\n"
     ]
    },
    {
     "name": "stderr",
     "output_type": "stream",
     "text": [
      "Best trial: 12. Best value: 0.358178:  75%|███████▌  | 15/20 [00:17<00:02,  1.76it/s]"
     ]
    },
    {
     "name": "stdout",
     "output_type": "stream",
     "text": [
      "[I 2025-06-24 23:34:36,412] Trial 14 finished with value: 0.38439612324504935 and parameters: {'C': 0.0028718250465162133}. Best is trial 12 with value: 0.35817827557699683.\n"
     ]
    },
    {
     "name": "stderr",
     "output_type": "stream",
     "text": [
      "Best trial: 12. Best value: 0.358178:  80%|████████  | 16/20 [00:18<00:02,  1.61it/s]"
     ]
    },
    {
     "name": "stdout",
     "output_type": "stream",
     "text": [
      "[I 2025-06-24 23:34:37,154] Trial 15 finished with value: 0.39294993148444646 and parameters: {'C': 0.061296196372412286}. Best is trial 12 with value: 0.35817827557699683.\n"
     ]
    },
    {
     "name": "stderr",
     "output_type": "stream",
     "text": [
      "Best trial: 12. Best value: 0.358178:  85%|████████▌ | 17/20 [00:18<00:01,  1.92it/s]"
     ]
    },
    {
     "name": "stdout",
     "output_type": "stream",
     "text": [
      "[I 2025-06-24 23:34:37,445] Trial 16 finished with value: 0.37864778283731004 and parameters: {'C': 0.003409264942037956}. Best is trial 12 with value: 0.35817827557699683.\n"
     ]
    },
    {
     "name": "stderr",
     "output_type": "stream",
     "text": [
      "Best trial: 12. Best value: 0.358178:  90%|█████████ | 18/20 [00:19<00:01,  1.67it/s]"
     ]
    },
    {
     "name": "stdout",
     "output_type": "stream",
     "text": [
      "[I 2025-06-24 23:34:38,230] Trial 17 finished with value: 0.41332671501110074 and parameters: {'C': 0.08901581332229032}. Best is trial 12 with value: 0.35817827557699683.\n"
     ]
    },
    {
     "name": "stderr",
     "output_type": "stream",
     "text": [
      "Best trial: 12. Best value: 0.358178: 100%|██████████| 20/20 [00:20<00:00,  1.01s/it]\n",
      "[I 2025-06-24 23:34:38,710] A new study created in memory with name: no-name-9b42fc0f-a0f2-4485-b1ad-12d01ce07ec7\n"
     ]
    },
    {
     "name": "stdout",
     "output_type": "stream",
     "text": [
      "[I 2025-06-24 23:34:38,561] Trial 18 finished with value: 0.372885969811759 and parameters: {'C': 0.00415403421342495}. Best is trial 12 with value: 0.35817827557699683.\n",
      "[I 2025-06-24 23:34:38,705] Trial 19 finished with value: 0.5533478726005202 and parameters: {'C': 0.00011996661220636725}. Best is trial 12 with value: 0.35817827557699683.\n",
      "✓ LogisticRegression_Embeddings completado. Mejor LogLoss: 0.3582\n",
      "\n",
      "--- Optimizando LogisticRegression_TFIDF ---\n"
     ]
    },
    {
     "name": "stderr",
     "output_type": "stream",
     "text": [
      "Best trial: 0. Best value: 0.383562:   0%|          | 0/20 [00:00<?, ?it/s]"
     ]
    },
    {
     "name": "stdout",
     "output_type": "stream",
     "text": [
      "[I 2025-06-24 23:34:38,732] Trial 0 finished with value: 0.3835621821785501 and parameters: {'C': 0.31489116479568624}. Best is trial 0 with value: 0.3835621821785501.\n"
     ]
    },
    {
     "name": "stderr",
     "output_type": "stream",
     "text": [
      "Best trial: 2. Best value: 0.228784:  40%|████      | 8/20 [00:00<00:00, 38.72it/s]"
     ]
    },
    {
     "name": "stdout",
     "output_type": "stream",
     "text": [
      "[I 2025-06-24 23:34:38,764] Trial 1 finished with value: 0.2438915994591586 and parameters: {'C': 63.512210106407046}. Best is trial 1 with value: 0.2438915994591586.\n",
      "[I 2025-06-24 23:34:38,784] Trial 2 finished with value: 0.22878350451340182 and parameters: {'C': 8.471801418819979}. Best is trial 2 with value: 0.22878350451340182.\n",
      "[I 2025-06-24 23:34:38,816] Trial 3 finished with value: 0.2543922106378524 and parameters: {'C': 2.481040974867813}. Best is trial 2 with value: 0.22878350451340182.\n",
      "[I 2025-06-24 23:34:38,828] Trial 4 finished with value: 0.5266108481587011 and parameters: {'C': 0.04207988669606638}. Best is trial 2 with value: 0.22878350451340182.\n",
      "[I 2025-06-24 23:34:38,833] Trial 5 finished with value: 0.5266210836329536 and parameters: {'C': 0.042070539502879395}. Best is trial 2 with value: 0.22878350451340182.\n",
      "[I 2025-06-24 23:34:38,850] Trial 6 finished with value: 0.5575440516511149 and parameters: {'C': 0.017073967431528128}. Best is trial 2 with value: 0.22878350451340182.\n",
      "[I 2025-06-24 23:34:38,879] Trial 7 finished with value: 0.23194129380867662 and parameters: {'C': 29.154431891537552}. Best is trial 2 with value: 0.22878350451340182.\n",
      "[I 2025-06-24 23:34:38,899] Trial 8 finished with value: 0.2535903681669443 and parameters: {'C': 2.5378155082656657}. Best is trial 2 with value: 0.22878350451340182.\n"
     ]
    },
    {
     "name": "stderr",
     "output_type": "stream",
     "text": [
      "Best trial: 2. Best value: 0.228784:  50%|█████     | 10/20 [00:00<00:00, 47.93it/s]"
     ]
    },
    {
     "name": "stdout",
     "output_type": "stream",
     "text": [
      "[I 2025-06-24 23:34:38,918] Trial 9 finished with value: 0.2309244491425294 and parameters: {'C': 6.79657809075816}. Best is trial 2 with value: 0.22878350451340182.\n",
      "[I 2025-06-24 23:34:38,945] Trial 10 finished with value: 0.4248090148699596 and parameters: {'C': 0.19188765741731942}. Best is trial 2 with value: 0.22878350451340182.\n"
     ]
    },
    {
     "name": "stderr",
     "output_type": "stream",
     "text": [
      "Best trial: 11. Best value: 0.227363:  75%|███████▌  | 15/20 [00:00<00:00, 41.55it/s]"
     ]
    },
    {
     "name": "stdout",
     "output_type": "stream",
     "text": [
      "[I 2025-06-24 23:34:38,976] Trial 11 finished with value: 0.227362768728242 and parameters: {'C': 11.28150872288988}. Best is trial 11 with value: 0.227362768728242.\n",
      "[I 2025-06-24 23:34:39,013] Trial 12 finished with value: 0.23179034178710975 and parameters: {'C': 28.77151152926683}. Best is trial 11 with value: 0.227362768728242.\n",
      "[I 2025-06-24 23:34:39,033] Trial 13 finished with value: 0.2284611219654028 and parameters: {'C': 8.860401735171557}. Best is trial 11 with value: 0.227362768728242.\n",
      "[I 2025-06-24 23:34:39,067] Trial 14 finished with value: 0.22779808236912713 and parameters: {'C': 9.955929698844178}. Best is trial 11 with value: 0.227362768728242.\n",
      "[I 2025-06-24 23:34:39,088] Trial 15 finished with value: 0.35707882392118356 and parameters: {'C': 0.43622052582511206}. Best is trial 11 with value: 0.227362768728242.\n"
     ]
    },
    {
     "name": "stderr",
     "output_type": "stream",
     "text": [
      "Best trial: 11. Best value: 0.227363:  85%|████████▌ | 17/20 [00:00<00:00, 41.55it/s]"
     ]
    },
    {
     "name": "stdout",
     "output_type": "stream",
     "text": [
      "[I 2025-06-24 23:34:39,110] Trial 16 finished with value: 0.2734308521528483 and parameters: {'C': 1.5756479544296156}. Best is trial 11 with value: 0.227362768728242.\n",
      "[I 2025-06-24 23:34:39,149] Trial 17 finished with value: 0.2474394048970068 and parameters: {'C': 75.96739093427765}. Best is trial 11 with value: 0.227362768728242.\n"
     ]
    },
    {
     "name": "stderr",
     "output_type": "stream",
     "text": [
      "Best trial: 18. Best value: 0.227299: 100%|██████████| 20/20 [00:00<00:00, 40.98it/s]"
     ]
    },
    {
     "name": "stdout",
     "output_type": "stream",
     "text": [
      "[I 2025-06-24 23:34:39,177] Trial 18 finished with value: 0.2272986844337548 and parameters: {'C': 14.646936393483898}. Best is trial 18 with value: 0.2272986844337548.\n",
      "[I 2025-06-24 23:34:39,200] Trial 19 finished with value: 0.24179552741053625 and parameters: {'C': 3.757084358753148}. Best is trial 18 with value: 0.2272986844337548.\n",
      "✓ LogisticRegression_TFIDF completado. Mejor LogLoss: 0.2273\n"
     ]
    },
    {
     "name": "stderr",
     "output_type": "stream",
     "text": [
      "\n"
     ]
    }
   ],
   "source": [
    "models_config = {\n",
    "    'XGBoost': {'objective_func': objective_xgboost, 'n_trials': 25},\n",
    "    'MLP_PyTorch': {'objective_func': objective_mlp, 'n_trials': 30},\n",
    "    'LogisticRegression_Embeddings': {'objective_func': objective_logistic_embeddings, 'n_trials': 20},\n",
    "    'LogisticRegression_TFIDF': {'objective_func': objective_logistic_tfidf, 'n_trials': 20}\n",
    "}\n",
    "\n",
    "model_results = {}\n",
    "\n",
    "for model_name, config in models_config.items():\n",
    "    print(f\"\\n--- Optimizando {model_name} ---\")\n",
    "    study = optuna.create_study(direction='minimize', sampler=optuna.samplers.TPESampler(seed=42))\n",
    "    study.optimize(config['objective_func'], n_trials=config['n_trials'], show_progress_bar=True)\n",
    "    \n",
    "    model_results[model_name] = {\n",
    "        'best_params': study.best_params,\n",
    "        'best_score': study.best_value\n",
    "    }\n",
    "    print(f\"✓ {model_name} completado. Mejor LogLoss: {study.best_value:.4f}\")"
   ]
  },
  {
   "cell_type": "markdown",
   "id": "new_train_md_4",
   "metadata": {},
   "source": [
    "### 5.3 Entrenamiento de los Modelos Finales\n",
    "Ahora entrenamos cada modelo con los mejores hiperparámetros encontrados en el conjunto de entrenamiento completo."
   ]
  },
  {
   "cell_type": "code",
   "execution_count": 10,
   "id": "new_train_final_models",
   "metadata": {},
   "outputs": [
    {
     "name": "stdout",
     "output_type": "stream",
     "text": [
      "--- Entrenando modelos finales con los mejores hiperparámetros ---\n",
      "✓ Modelo XGBoost final entrenado.\n",
      "✓ Modelo Regresión Logística (Embeddings) final entrenado.\n",
      "✓ Modelo Regresión Logística (TF-IDF) final entrenado.\n"
     ]
    },
    {
     "name": "stderr",
     "output_type": "stream",
     "text": [
      "Epochs MLP final: 100%|██████████| 30/30 [00:01<00:00, 20.34it/s]"
     ]
    },
    {
     "name": "stdout",
     "output_type": "stream",
     "text": [
      "✓ Modelo MLP (PyTorch) final entrenado.\n",
      "\n",
      "✓ Todos los modelos finales han sido entrenados.\n"
     ]
    },
    {
     "name": "stderr",
     "output_type": "stream",
     "text": [
      "\n"
     ]
    }
   ],
   "source": [
    "trained_models = {}\n",
    "print(\"--- Entrenando modelos finales con los mejores hiperparámetros ---\")\n",
    "\n",
    "# 1. XGBoost\n",
    "params = model_results['XGBoost']['best_params']\n",
    "final_xgb = xgb.XGBClassifier(objective='binary:logistic', eval_metric='logloss',\n",
    "                              device='cuda' if device.type == 'cuda' else 'cpu',\n",
    "                              **params, use_label_encoder=False)\n",
    "final_xgb.fit(X_train_emb, y_train)\n",
    "trained_models['XGBoost'] = final_xgb\n",
    "print(\"✓ Modelo XGBoost final entrenado.\")\n",
    "\n",
    "# 2. Regresión Logística (Embeddings)\n",
    "params = model_results['LogisticRegression_Embeddings']['best_params']\n",
    "final_log_emb = LogisticRegression(solver='liblinear', random_state=42, **params)\n",
    "final_log_emb.fit(X_train_emb_scaled, y_train)\n",
    "trained_models['LogisticRegression_Embeddings'] = final_log_emb\n",
    "print(\"✓ Modelo Regresión Logística (Embeddings) final entrenado.\")\n",
    "\n",
    "# 3. Regresión Logística (TF-IDF)\n",
    "params = model_results['LogisticRegression_TFIDF']['best_params']\n",
    "final_log_tfidf = LogisticRegression(solver='liblinear', random_state=42, **params)\n",
    "final_log_tfidf.fit(X_train_tfidf, y_train)\n",
    "trained_models['LogisticRegression_TFIDF'] = final_log_tfidf\n",
    "print(\"✓ Modelo Regresión Logística (TF-IDF) final entrenado.\")\n",
    "\n",
    "# 4. MLP (PyTorch)\n",
    "params = model_results['MLP_PyTorch']['best_params']\n",
    "hidden_layers = [params[f'n_units_l{i}'] for i in range(params['n_layers'])]\n",
    "final_mlp = MLP(input_size=X_train_emb_scaled.shape[1], hidden_layers=hidden_layers, output_size=num_classes, \n",
    "                activation_fn=getattr(nn, params['activation']), dropout_rate=params['dropout_rate']).to(device)\n",
    "optimizer = getattr(optim, params['optimizer'])(final_mlp.parameters(), lr=params['lr'])\n",
    "criterion = nn.CrossEntropyLoss()\n",
    "train_dataset = TensorDataset(torch.tensor(X_train_emb_scaled, dtype=torch.float32), torch.tensor(y_train, dtype=torch.long))\n",
    "train_loader = DataLoader(train_dataset, batch_size=128, shuffle=True)\n",
    "\n",
    "for epoch in tqdm(range(30), desc=\"Epochs MLP final\"):\n",
    "    final_mlp.train()\n",
    "    for data, target in train_loader:\n",
    "        data, target = data.to(device), target.to(device)\n",
    "        optimizer.zero_grad()\n",
    "        output = final_mlp(data)\n",
    "        loss = criterion(output, target)\n",
    "        loss.backward()\n",
    "        optimizer.step()\n",
    "trained_models['MLP_PyTorch'] = final_mlp.eval() # Poner en modo evaluación\n",
    "print(\"✓ Modelo MLP (PyTorch) final entrenado.\")\n",
    "\n",
    "print(\"\\n✓ Todos los modelos finales han sido entrenados.\")"
   ]
  },
  {
   "cell_type": "markdown",
   "id": "new_train_md_5",
   "metadata": {},
   "source": [
    "### 5.4 Creación y Evaluación del Ensemble Ponderado\n",
    "\n",
    "Ahora, evaluamos cada modelo individualmente en el conjunto de validación para calcular sus pesos. Los modelos con menor `log_loss` (mejor rendimiento) recibirán más peso en el ensemble final. Finalmente, combinamos sus predicciones y evaluamos el rendimiento del ensemble."
   ]
  },
  {
   "cell_type": "code",
   "execution_count": 11,
   "id": "new_train_ensemble",
   "metadata": {},
   "outputs": [
    {
     "name": "stdout",
     "output_type": "stream",
     "text": [
      "--- Evaluando modelos individuales en el conjunto de validación ---\n",
      "\n",
      "--- Pesos del Ensemble Calculados ---\n",
      "XGBoost                        | Peso: 0.206 | LogLoss (Val): 0.3834\n",
      "LogisticRegression_Embeddings  | Peso: 0.220 | LogLoss (Val): 0.3582\n",
      "LogisticRegression_TFIDF       | Peso: 0.347 | LogLoss (Val): 0.2273\n",
      "MLP_PyTorch                    | Peso: 0.226 | LogLoss (Val): 0.3490\n",
      "\n",
      "--- Comparación de Rendimiento (Validación) ---\n",
      "Modelo                         | Log Loss   | Accuracy   | F1-Score  \n",
      "======================================================================\n",
      "XGBoost                        | 0.3834     | 0.8530     | 0.8441    \n",
      "LogisticRegression_Embeddings  | 0.3582     | 0.8540     | 0.8518    \n",
      "LogisticRegression_TFIDF       | 0.2273     | 0.9120     | 0.9098    \n",
      "MLP_PyTorch                    | 0.3490     | 0.8640     | 0.8592    \n",
      "——————————————————————————————————————————————————————————————————————\n",
      "🏆 ENSEMBLE PONDERADO           | 0.2624     | 0.9010     | 0.8971    \n"
     ]
    }
   ],
   "source": [
    "print(\"--- Evaluando modelos individuales en el conjunto de validación ---\")\n",
    "individual_metrics = {}\n",
    "val_probas = {}\n",
    "\n",
    "# Obtener predicciones de cada modelo en el set de validación\n",
    "val_probas['XGBoost'] = trained_models['XGBoost'].predict_proba(X_val_emb)\n",
    "val_probas['LogisticRegression_Embeddings'] = trained_models['LogisticRegression_Embeddings'].predict_proba(X_val_emb_scaled)\n",
    "val_probas['LogisticRegression_TFIDF'] = trained_models['LogisticRegression_TFIDF'].predict_proba(X_val_tfidf)\n",
    "with torch.no_grad():\n",
    "    mlp_outputs = trained_models['MLP_PyTorch'](X_val_torch)\n",
    "    val_probas['MLP_PyTorch'] = torch.softmax(mlp_outputs, dim=1).cpu().numpy()\n",
    "\n",
    "# Calcular métricas para cada modelo\n",
    "for name, proba in val_probas.items():\n",
    "    loss = log_loss(y_val, proba)\n",
    "    pred = np.argmax(proba, axis=1)\n",
    "    acc = accuracy_score(y_val, pred)\n",
    "    f1 = f1_score(y_val, pred, average='weighted')\n",
    "    individual_metrics[name] = {'log_loss': loss, 'accuracy': acc, 'f1_score': f1}\n",
    "\n",
    "# Calcular pesos del ensemble (mayor peso a menor log_loss)\n",
    "losses = {name: metrics['log_loss'] for name, metrics in individual_metrics.items()}\n",
    "scores = {name: 1.0 / (loss + 1e-9) for name, loss in losses.items()}\n",
    "total_score = sum(scores.values())\n",
    "ensemble_weights = {name: score / total_score for name, score in scores.items()}\n",
    "\n",
    "print(\"\\n--- Pesos del Ensemble Calculados ---\")\n",
    "for name, w in ensemble_weights.items(): \n",
    "    print(f\"{name:<30} | Peso: {w:.3f} | LogLoss (Val): {losses[name]:.4f}\")\n",
    "\n",
    "# Crear y evaluar el ensemble\n",
    "ensemble_proba = np.zeros_like(val_probas['XGBoost'])\n",
    "for name, proba in val_probas.items():\n",
    "    ensemble_proba += proba * ensemble_weights[name]\n",
    "\n",
    "ensemble_pred = np.argmax(ensemble_proba, axis=1)\n",
    "ensemble_log_loss = log_loss(y_val, ensemble_proba)\n",
    "ensemble_accuracy = accuracy_score(y_val, ensemble_pred)\n",
    "ensemble_f1 = f1_score(y_val, ensemble_pred, average='weighted')\n",
    "\n",
    "print(\"\\n--- Comparación de Rendimiento (Validación) ---\")\n",
    "print(f\"{'Modelo':<30} | {'Log Loss':<10} | {'Accuracy':<10} | {'F1-Score':<10}\")\n",
    "print(\"=\"*70)\n",
    "for name, metrics in individual_metrics.items():\n",
    "    print(f\"{name:<30} | {metrics['log_loss']:<10.4f} | {metrics['accuracy']:<10.4f} | {metrics['f1_score']:<10.4f}\")\n",
    "print(\"—\"*70)\n",
    "print(f\"{'🏆 ENSEMBLE PONDERADO':<30} | {ensemble_log_loss:<10.4f} | {ensemble_accuracy:<10.4f} | {ensemble_f1:<10.4f}\")"
   ]
  },
  {
   "cell_type": "markdown",
   "id": "eval_md",
   "metadata": {},
   "source": [
    "## 6. Evaluación Final del Modelo Ensemble (en Conjunto de Prueba)\n",
    "Aplicamos la lógica del ensemble al conjunto de prueba, que los modelos no han visto nunca."
   ]
  },
  {
   "cell_type": "code",
   "execution_count": 12,
   "id": "75e7b763",
   "metadata": {},
   "outputs": [
    {
     "name": "stdout",
     "output_type": "stream",
     "text": [
      "\n",
      "--- Ejecutando Evaluación Final del Ensemble en el Conjunto de Prueba ---\n",
      "Datos de prueba cargados: 1000 muestras.\n",
      "\n",
      "--- Resultados de la Evaluación Final ---\n",
      "Accuracy en el conjunto de prueba: 0.9110\n",
      "\n",
      "Reporte de Clasificación:\n",
      "              precision    recall  f1-score   support\n",
      "\n",
      "    not-hate       0.91      0.98      0.94       731\n",
      "        hate       0.92      0.74      0.82       269\n",
      "\n",
      "    accuracy                           0.91      1000\n",
      "   macro avg       0.91      0.86      0.88      1000\n",
      "weighted avg       0.91      0.91      0.91      1000\n",
      "\n",
      "\n",
      "Matriz de Confusión:\n"
     ]
    },
    {
     "data": {
      "image/png": "[encoded data removed]",
      "text/plain": [
       "<Figure size 800x600 with 2 Axes>"
      ]
     },
     "metadata": {},
     "output_type": "display_data"
    },
    {
     "name": "stdout",
     "output_type": "stream",
     "text": [
      "\n",
      "--- Evaluación Completada ---\n"
     ]
    }
   ],
   "source": [
    "print(\"\\n--- Ejecutando Evaluación Final del Ensemble en el Conjunto de Prueba ---\")\n",
    "\n",
    "# 1. Cargar los datos de prueba\n",
    "with open(os.path.join(PROCESSED_DIR, 'test_embeddings.pkl'), 'rb') as f: X_test_emb_eval = pickle.load(f)\n",
    "with open(os.path.join(PROCESSED_DIR, 'test_text_stemmed.pkl'), 'rb') as f: X_test_text_eval = pickle.load(f)\n",
    "with open(os.path.join(PROCESSED_DIR, 'test_labels.pkl'), 'rb') as f: y_test_eval = pickle.load(f)\n",
    "print(f\"Datos de prueba cargados: {len(y_test_eval)} muestras.\")\n",
    "\n",
    "# 2. Preparar características de prueba\n",
    "X_test_emb_scaled_eval = scaler.transform(X_test_emb_eval)\n",
    "X_test_tfidf_eval = tfidf_vectorizer.transform(X_test_text_eval)\n",
    "X_test_torch_eval = torch.tensor(X_test_emb_scaled_eval, dtype=torch.float32).to(device)\n",
    "\n",
    "# 3. Obtener predicciones de cada modelo en el conjunto de prueba\n",
    "test_probas = {}\n",
    "test_probas['XGBoost'] = trained_models['XGBoost'].predict_proba(X_test_emb_eval)\n",
    "test_probas['LogisticRegression_Embeddings'] = trained_models['LogisticRegression_Embeddings'].predict_proba(X_test_emb_scaled_eval)\n",
    "test_probas['LogisticRegression_TFIDF'] = trained_models['LogisticRegression_TFIDF'].predict_proba(X_test_tfidf_eval)\n",
    "with torch.no_grad():\n",
    "    mlp_outputs = trained_models['MLP_PyTorch'](X_test_torch_eval)\n",
    "    test_probas['MLP_PyTorch'] = torch.softmax(mlp_outputs, dim=1).cpu().numpy()\n",
    "\n",
    "# 4. Combinar predicciones usando los pesos del ensemble\n",
    "final_ensemble_proba = np.zeros_like(test_probas['XGBoost'])\n",
    "for name, proba in test_probas.items():\n",
    "    final_ensemble_proba += proba * ensemble_weights[name]\n",
    "\n",
    "y_pred_eval = np.argmax(final_ensemble_proba, axis=1)\n",
    "\n",
    "# 5. Calcular y mostrar métricas finales\n",
    "print(\"\\n--- Resultados de la Evaluación Final ---\")\n",
    "acc = accuracy_score(y_test_eval, y_pred_eval)\n",
    "report = classification_report(y_test_eval, y_pred_eval, target_names=['not-hate', 'hate'])\n",
    "cm = confusion_matrix(y_test_eval, y_pred_eval)\n",
    "\n",
    "print(f\"Accuracy en el conjunto de prueba: {acc:.4f}\\n\")\n",
    "print(\"Reporte de Clasificación:\")\n",
    "print(report)\n",
    "\n",
    "print(\"\\nMatriz de Confusión:\")\n",
    "plt.figure(figsize=(8, 6))\n",
    "sns.heatmap(cm, annot=True, fmt='d', cmap='Blues', \n",
    "            xticklabels=['not-hate', 'hate'], yticklabels=['not-hate', 'hate'])\n",
    "plt.ylabel('Etiqueta Real')\n",
    "plt.xlabel('Etiqueta Predicha')\n",
    "plt.title('Matriz de Confusión del Modelo Ensemble (Prueba)')\n",
    "plt.show()\n",
    "\n",
    "print(\"\\n--- Evaluación Completada ---\")"
   ]
  },
  {
   "cell_type": "markdown",
   "id": "new_train_md_6",
   "metadata": {},
   "source": [
    "## 7. Guardado de Artefactos del Modelo\n",
    "\n",
    "Guardamos los modelos individuales, los transformadores de características (scaler y TF-IDF), los pesos del ensemble y los resultados de Optuna."
   ]
  },
  {
   "cell_type": "code",
   "execution_count": 13,
   "id": "new_train_save",
   "metadata": {},
   "outputs": [
    {
     "name": "stdout",
     "output_type": "stream",
     "text": [
      "--- Guardando artefactos en datos_locales\\model_output\\local-ensemble-job-1750829529 ---\n",
      "✓ Pesos del ensemble guardados en: datos_locales\\model_output\\local-ensemble-job-1750829529\\ensemble_weights.pkl\n",
      "✓ Modelo XGBoost guardado en: datos_locales\\model_output\\local-ensemble-job-1750829529\\xgboost_model.pkl\n",
      "✓ Modelo LogisticRegression_Embeddings guardado en: datos_locales\\model_output\\local-ensemble-job-1750829529\\logisticregression_embeddings_model.pkl\n",
      "✓ Modelo LogisticRegression_TFIDF guardado en: datos_locales\\model_output\\local-ensemble-job-1750829529\\logisticregression_tfidf_model.pkl\n",
      "✓ Modelo MLP_PyTorch guardado en: datos_locales\\model_output\\local-ensemble-job-1750829529\\mlp_pytorch.pth\n",
      "✓ Scaler guardado en: datos_locales\\model_output\\local-ensemble-job-1750829529\\scaler.pkl\n",
      "✓ Vectorizador TF-IDF guardado en: datos_locales\\model_output\\local-ensemble-job-1750829529\\tfidf_vectorizer.pkl\n",
      "✓ Resultados de Optuna guardados en: datos_locales\\model_output\\local-ensemble-job-1750829529\\optuna_results.pkl\n",
      "\n",
      "🎉 Pipeline completado y todos los artefactos han sido guardados.\n"
     ]
    }
   ],
   "source": [
    "print(f\"--- Guardando artefactos en {MODEL_OUTPUT_DIR} ---\")\n",
    "\n",
    "# 1. Guardar los pesos del ensemble\n",
    "weights_path = os.path.join(MODEL_OUTPUT_DIR, \"ensemble_weights.pkl\")\n",
    "with open(weights_path, 'wb') as f: pickle.dump(ensemble_weights, f)\n",
    "print(f\"✓ Pesos del ensemble guardados en: {weights_path}\")\n",
    "\n",
    "# 2. Guardar los modelos individuales\n",
    "for name, model in trained_models.items():\n",
    "    if name == 'MLP_PyTorch':\n",
    "        model_path = os.path.join(MODEL_OUTPUT_DIR, \"mlp_pytorch.pth\")\n",
    "        torch.save(model.state_dict(), model_path)\n",
    "    else:\n",
    "        model_path = os.path.join(MODEL_OUTPUT_DIR, f\"{name.lower()}_model.pkl\")\n",
    "        with open(model_path, 'wb') as f: pickle.dump(model, f)\n",
    "    print(f\"✓ Modelo {name} guardado en: {model_path}\")\n",
    "\n",
    "# 3. Guardar los transformadores de características\n",
    "scaler_path = os.path.join(MODEL_OUTPUT_DIR, \"scaler.pkl\")\n",
    "with open(scaler_path, 'wb') as f: pickle.dump(scaler, f)\n",
    "print(f\"✓ Scaler guardado en: {scaler_path}\")\n",
    "\n",
    "tfidf_path = os.path.join(MODEL_OUTPUT_DIR, \"tfidf_vectorizer.pkl\")\n",
    "with open(tfidf_path, 'wb') as f: pickle.dump(tfidf_vectorizer, f)\n",
    "print(f\"✓ Vectorizador TF-IDF guardado en: {tfidf_path}\")\n",
    "\n",
    "# 4. Guardar los resultados de Optuna\n",
    "results_path = os.path.join(MODEL_OUTPUT_DIR, \"optuna_results.pkl\")\n",
    "with open(results_path, 'wb') as f: pickle.dump(model_results, f)\n",
    "print(f\"✓ Resultados de Optuna guardados en: {results_path}\")\n",
    "\n",
    "print(\"\\n🎉 Pipeline completado y todos los artefactos han sido guardados.\")"
   ]
  }
 ],
 "metadata": {
  "kernelspec": {
   "display_name": "ml_env",
   "language": "python",
   "name": "python3"
  },
  "language_info": {
   "codemirror_mode": {
    "name": "ipython",
    "version": 3
   },
   "file_extension": ".py",
   "mimetype": "text/x-python",
   "name": "python",
   "nbconvert_exporter": "python",
   "pygments_lexer": "ipython3",
   "version": "3.11.13"
  }
 },
 "nbformat": 4,
 "nbformat_minor": 5
}
